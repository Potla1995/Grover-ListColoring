{
 "cells": [
  {
   "cell_type": "markdown",
   "metadata": {},
   "source": [
    "# Our Implementation for K3 Coloring\n",
    "The goal of this notebook is to implement and test our [Grover search based list coloring algorithm](https://arxiv.org/abs/2108.09061) on the Amazon Statevector Simulator and the IonQ Quantum Device, and compare our performance with the simulator output of the previous work of [Saha et. al.](https://arxiv.org/pdf/2009.06073.pdf)."
   ]
  },
  {
   "cell_type": "code",
   "execution_count": 1,
   "metadata": {
    "pycharm": {
     "is_executing": false
    }
   },
   "outputs": [],
   "source": [
    "# Install blueqat\n",
    "# !pip install blueqat blueqat-cloud\n",
    "\n",
    "# Import Libraries\n",
    "from blueqat import circuit\n",
    "import math\n",
    "import numpy as np\n",
    "import matplotlib.pyplot as plt\n",
    "\n",
    "# Create the triangle graph\n",
    "vertices = [0, 1, 2]\n",
    "edges = [[0,1], [1,2], [0,2]]"
   ]
  },
  {
   "cell_type": "code",
   "execution_count": 2,
   "metadata": {
    "pycharm": {
     "is_executing": false
    }
   },
   "outputs": [],
   "source": [
    "# Toffoli and CCCX Gate Implementation\n",
    "def apply_ccx(circuit, control0, control1, target):\n",
    "    # circuit.ccx[control0, control1, target]\n",
    "    circuit.h[target].cx[control1, target].rz(-0.7853981633974483)[target]\n",
    "    circuit.cx[control0, target].rz(0.7853981633974483)[target].cx[control1, target]\n",
    "    circuit.rz(-0.7853981633974483)[target].cx[control0, target].rz(0.7853981633974483)[target].h[target]\n",
    "    circuit.rz(-0.7853981633974483)[control1].cx[control0, control1]\n",
    "    circuit.rz(-0.7853981633974483)[control1].cx[control0, control1].rz(0.7853981633974483)[control0]\n",
    "    circuit.rz(1.5707963267948966)[control1]\n",
    "    \n",
    "def apply_cccx(circuit, controls, target, ancilla):\n",
    "    # Applies a CCCX gate onto the circuit. Requires a clean ancilla qubit.\n",
    "    assert len(controls) == 3, '3 controls were not provided: CCCX gate needs a list of controls of size 3.'\n",
    "    apply_ccx(circuit, controls[0], controls[1], ancilla)\n",
    "    apply_ccx(circuit, controls[2], ancilla, target)\n",
    "    apply_ccx(circuit, controls[0], controls[1], ancilla)"
   ]
  },
  {
   "cell_type": "code",
   "execution_count": 3,
   "metadata": {
    "pycharm": {
     "is_executing": false
    }
   },
   "outputs": [],
   "source": [
    "# Initialization Operators\n",
    "\n",
    "def apply_E3(circuit, targets):\n",
    "    # Applies an E3 gate on two qubits.\n",
    "    assert len(targets) == 2, 'E3 only acts on 2 qubits.'\n",
    "    # circuit.ry(2*np.arcsin(np.sqrt(2/3)))[targets[0]]\n",
    "    # circuit.ch[targets[0],targets[1]]\n",
    "    circuit.ry(1.9106332362490186)[targets[0]].rz(1.5707963267948966)[targets[1]].h[targets[1]].rz(0.7853981633974483)[targets[1]].cx[targets[0], targets[1]].rz(-0.7853981633974483)[targets[1]].h[targets[1]].rz(-1.5707963267948966)[targets[1]].x[targets[0]]\n",
    "    # circuit.s[targets[1]].h[targets[1]].t[targets[1]].cnot[targets[0],targets[1]].tdg[targets[1]].h[targets[1]].sdg[targets[1]]\n",
    "    # circuit.x[targets[1]]\n",
    "\n",
    "def apply_E3_dagger(circuit, targets):\n",
    "    # Applies an E3_dagger on two qubits.\n",
    "    assert len(targets) == 2, 'E3 only acts on 2 qubits.'\n",
    "    circuit.x[targets[0]].rz(1.5707963267948966)[targets[1]].h[targets[1]].rz(0.7853981633974483)[targets[1]].cx[targets[0], targets[1]].rz(-0.7853981633974483)[targets[1]].h[targets[1]].rz(-1.5707963267948966)[targets[1]].ry(-1.9106332362490186)[targets[0]]\n",
    "    # circuit.x[targets[1]]\n",
    "    # circuit.ch[targets[0],targets[1]]\n",
    "    # circuit.sdg[targets[1]].h[targets[1]].tdg[targets[1]].cnot[targets[0],targets[1]].t[targets[1]].h[targets[1]].s[targets[1]]\n",
    "    # circuit.ry(-2*np.arcsin(np.sqrt(2/3)))[targets[0]]"
   ]
  },
  {
   "cell_type": "code",
   "execution_count": 4,
   "metadata": {
    "pycharm": {
     "is_executing": false
    }
   },
   "outputs": [],
   "source": [
    "# Diffusion Operator\n",
    "\n",
    "def apply_diffusion(circuit, vertex_qubits, clean_ancilla):\n",
    "    assert len(vertex_qubits) == 6, 'Only implemented for 3 vertices and 6 qubits!'\n",
    "    for i in range(int(len(vertex_qubits)/2)):\n",
    "        apply_E3_dagger(circuit, [vertex_qubits[2*i], vertex_qubits[2*i+1]])\n",
    "    \n",
    "    # Put in anticontrolled toffoli\n",
    "    circuit.x[vertex_qubits[0]].x[vertex_qubits[1]].x[vertex_qubits[2]]\n",
    "    circuit.x[vertex_qubits[-1]].h[vertex_qubits[-1]]\n",
    "    apply_cccx(circuit, vertex_qubits[0:3], vertex_qubits[-1], clean_ancilla)\n",
    "    circuit.h[vertex_qubits[-1]].x[vertex_qubits[-1]]\n",
    "    circuit.x[vertex_qubits[0]].x[vertex_qubits[1]].x[vertex_qubits[2]]\n",
    "    \n",
    "    for i in range(int(len(vertex_qubits)/2)):\n",
    "        apply_E3(circuit, [vertex_qubits[2*i], vertex_qubits[2*i+1]])"
   ]
  },
  {
   "cell_type": "code",
   "execution_count": 5,
   "metadata": {
    "pycharm": {
     "is_executing": false
    }
   },
   "outputs": [],
   "source": [
    "# Oracle Part 1: Color Check\n",
    "\n",
    "def apply_color_check(circuit, edges, vertex_qubits, edge_qubits):\n",
    "    # for each edge, apply two toffoli gates onto its corresponding qubit\n",
    "    for i in range(len(edges)):\n",
    "        # get the vertices u,v incident to the i'th edge\n",
    "        e = edges[i]\n",
    "        u = e[0]\n",
    "        v = e[1]\n",
    "        # apply two anticontrol toffolis\n",
    "        circuit.x[vertex_qubits[2*u]]\n",
    "        circuit.x[vertex_qubits[2*v+1]]\n",
    "        apply_ccx(circuit, vertex_qubits[2*u], vertex_qubits[2*v+1], edge_qubits[i])\n",
    "        circuit.x[vertex_qubits[2*u]]\n",
    "        circuit.x[vertex_qubits[2*v+1]]\n",
    "        circuit.x[vertex_qubits[2*u+1]]\n",
    "        circuit.x[vertex_qubits[2*v]]\n",
    "        apply_ccx(circuit, vertex_qubits[2*u+1], vertex_qubits[2*v], edge_qubits[i])\n",
    "        circuit.x[vertex_qubits[2*u+1]]\n",
    "        circuit.x[vertex_qubits[2*v]]"
   ]
  },
  {
   "cell_type": "code",
   "execution_count": 6,
   "metadata": {
    "pycharm": {
     "is_executing": false
    }
   },
   "outputs": [],
   "source": [
    "# Full Oracle\n",
    "\n",
    "def apply_grover_oracle(circuit, edges, vertex_qubits, edge_qubits, phase_flip_ancilla, clean_ancilla):\n",
    "    apply_color_check(circuit, edges, vertex_qubits, edge_qubits)\n",
    "    apply_cccx(circuit, controls=edge_qubits, target=phase_flip_ancilla, ancilla=clean_ancilla)\n",
    "    apply_color_check(circuit, edges, vertex_qubits, edge_qubits)"
   ]
  },
  {
   "cell_type": "code",
   "execution_count": 7,
   "metadata": {
    "pycharm": {
     "is_executing": false
    },
    "scrolled": true
   },
   "outputs": [
    {
     "name": "stdout",
     "output_type": "stream",
     "text": [
      "Using Grover Rotation 1 times...\n",
      "Number of operations: 429\n"
     ]
    }
   ],
   "source": [
    "# Setting the circuit and registers\n",
    "from blueqat import Circuit\n",
    "qc = Circuit(11)\n",
    "vertex_qubits = list(range(6))\n",
    "edge_qubits = list(range(6,9))\n",
    "phase_flip_ancilla = 9\n",
    "clean_ancilla = 10\n",
    "\n",
    "# Circuit Initialization\n",
    "for v in vertices:\n",
    "    apply_E3(qc, [vertex_qubits[2*v], vertex_qubits[2*v+1]])\n",
    "qc.h[phase_flip_ancilla].z[phase_flip_ancilla]\n",
    "\n",
    "num_iter = 1 # math.ceil(math.pi/4 * math.sqrt(2**6/6)) # We're cheating here since we know there are 6 solutions...\n",
    "print('Using Grover Rotation {} times...'.format(num_iter))\n",
    "\n",
    "for _ in range(num_iter):\n",
    "    # Oracle\n",
    "    apply_grover_oracle(qc, edges, vertex_qubits, edge_qubits, phase_flip_ancilla, clean_ancilla)\n",
    "\n",
    "    # Diffusion\n",
    "    apply_diffusion(qc, vertex_qubits, clean_ancilla)\n",
    "\n",
    "# Get the most frequent result on blueqat simulator\n",
    "'''\n",
    "num_shots = 2000\n",
    "r_dict = qc.m[0:6].run(shots=num_shots) # .most_common(5)\n",
    "print(r_dict)\n",
    "r = r_dict.most_common(5)\n",
    "r = r[0][0]\n",
    "print('Vertex 0: {}\\nVertex 1: {}\\nVertex 2: {}'.format(int(r[0:2],2),int(r[2:4],2), int(r[4:6],2)))\n",
    "'''\n",
    "\n",
    "# Compute the number of elementary operations\n",
    "print('Number of operations: ' + str(qc.to_qasm().count(';')-4))"
   ]
  },
  {
   "cell_type": "markdown",
   "metadata": {},
   "source": [
    "## Testing on Amazon Statevector Simulator"
   ]
  },
  {
   "cell_type": "code",
   "execution_count": 8,
   "metadata": {},
   "outputs": [],
   "source": [
    "import bqcloud\n",
    "api = bqcloud.load_api()\n",
    "# api = bqcloud.register_api(\"api_key\")"
   ]
  },
  {
   "cell_type": "code",
   "execution_count": 9,
   "metadata": {
    "scrolled": true
   },
   "outputs": [],
   "source": [
    "num_shots = 2000\n",
    "task1 = api.execute(qc, bqcloud.Device.SimSv1, num_shots)"
   ]
  },
  {
   "cell_type": "code",
   "execution_count": 10,
   "metadata": {},
   "outputs": [
    {
     "name": "stdout",
     "output_type": "stream",
     "text": [
      "Status.COMPLETED\n"
     ]
    }
   ],
   "source": [
    "print(task1.status())"
   ]
  },
  {
   "cell_type": "code",
   "execution_count": 11,
   "metadata": {
    "scrolled": true
   },
   "outputs": [
    {
     "name": "stdout",
     "output_type": "stream",
     "text": [
      "{'100001': 363, '100100': 347, '011000': 329, '101000': 2, '010010': 320, '000110': 301, '001001': 319, '010110': 2, '100010': 2, '011010': 2, '010001': 1, '001000': 4, '011001': 1, '000010': 2, '000101': 1, '000001': 1, '010100': 1, '101010': 2}\n"
     ]
    }
   ],
   "source": [
    "# Fetch Measurement Results\n",
    "result = task1.wait()\n",
    "\n",
    "# Compute Measurement Results from first 6 qubits\n",
    "c = result.shots().items()\n",
    "# c = r_dict.items()\n",
    "dict = {}\n",
    "for k,v in c:\n",
    "    if k[:6] in dict.keys():\n",
    "        dict[k[:6]] = dict[k[:6]] + v\n",
    "    else:\n",
    "        dict[k[:6]] = v\n",
    "\n",
    "print(dict)\n",
    "\n",
    "# Export result to CSV\n",
    "with open('Ours_3coloring_shot_counts_SimSv1_' + str(num_shots) + '.csv', encoding='utf-8-sig', mode='w') as fp:\n",
    "    fp.write('State;Probability\\n')  \n",
    "    for state, count in dict.items():  \n",
    "        fp.write('\\'{}\\';{}\\n'.format(state, count/num_shots))"
   ]
  },
  {
   "cell_type": "code",
   "execution_count": 12,
   "metadata": {},
   "outputs": [
    {
     "data": {
      "image/png": "[encoded data removed]",
      "text/plain": [
       "<Figure size 640x480 with 1 Axes>"
      ]
     },
     "metadata": {},
     "output_type": "display_data"
    }
   ],
   "source": [
    "x = dict.keys()\n",
    "y = [i/num_shots for i in dict.values()]\n",
    "plt.bar(range(len(x)), y)\n",
    "plt.show()"
   ]
  },
  {
   "cell_type": "markdown",
   "metadata": {},
   "source": [
    "## Testing on the IonQ Device"
   ]
  },
  {
   "cell_type": "code",
   "execution_count": 13,
   "metadata": {},
   "outputs": [],
   "source": [
    "task2 = api.execute(qc, bqcloud.Device.IonQDevice, num_shots)"
   ]
  },
  {
   "cell_type": "code",
   "execution_count": 16,
   "metadata": {},
   "outputs": [
    {
     "name": "stdout",
     "output_type": "stream",
     "text": [
      "Status.COMPLETED\n"
     ]
    }
   ],
   "source": [
    "task2.update()\n",
    "print(task2.status())"
   ]
  },
  {
   "cell_type": "code",
   "execution_count": 17,
   "metadata": {
    "scrolled": true
   },
   "outputs": [
    {
     "name": "stdout",
     "output_type": "stream",
     "text": [
      "Counter({'01000001011': 6, '10100001011': 6, '10101000010': 5, '00101100010': 5, '10101100010': 5, '10001000110': 5, '00000011110': 5, '11010000100': 4, '01101111100': 4, '01110000010': 4, '01001000010': 4, '00111110010': 4, '01100001010': 4, '11100101010': 4, '01101101010': 4, '11000001110': 4, '10111001110': 4, '01011101110': 4, '00001000001': 4, '00011000001': 4, '00101110001': 4, '10000101001': 4, '10111011001': 4, '00110010101': 4, '10010010011': 4, '00101010011': 4, '10111110011': 4, '11111011011': 4, '00001111011': 4, '01101000111': 4, '01010100111': 4, '01001110111': 4, '10101110111': 4, '11111001111': 4, '00011101111': 4, '01100000000': 3, '01100100000': 3, '10011010000': 3, '01011110000': 3, '10000001000': 3, '01001101000': 3, '01101011000': 3, '10001111000': 3, '11100100100': 3, '00101100100': 3, '00111100100': 3, '10100010100': 3, '00001010100': 3, '10111010100': 3, '11100110100': 3, '10000001100': 3, '11110101100': 3, '00001101100': 3, '10000011100': 3, '00101011100': 3, '01100111100': 3, '11111000010': 3, '01010010010': 3, '00001010010': 3, '10101010010': 3, '11000110010': 3, '01100110010': 3, '10010110010': 3, '01101110010': 3, '10001001010': 3, '10101001010': 3, '11101001010': 3, '01011001010': 3, '11011001010': 3, '10111001010': 3, '11001101010': 3, '11011101010': 3, '00101011010': 3, '10001111010': 3, '11001111010': 3, '00101111010': 3, '10110000110': 3, '00111100110': 3, '10111100110': 3, '11111100110': 3, '01100010110': 3, '01001010110': 3, '10111010110': 3, '00001110110': 3, '01000001110': 3, '11100001110': 3, '00010001110': 3, '00001001110': 3, '10001001110': 3, '10101001110': 3, '01111001110': 3, '11111001110': 3, '11111101110': 3, '10100111110': 3, '01100100001': 3, '11011100001': 3, '11011010001': 3, '10000110001': 3, '00011110001': 3, '01100001001': 3, '10111001001': 3, '01000101001': 3, '11001101001': 3, '10000111001': 3, '11110111001': 3, '00000000101': 3, '00000100101': 3, '01010100101': 3, '11000010101': 3, '11110010101': 3, '01111010101': 3, '01000110101': 3, '11000110101': 3, '00101110101': 3, '10101110101': 3, '00100001101': 3, '11010001101': 3, '00110101101': 3, '10000111101': 3, '01000000011': 3, '01100000011': 3, '11111000011': 3, '10000010011': 3, '11100010011': 3, '01110110011': 3, '00001110011': 3, '01101001011': 3, '01011001011': 3, '10010101011': 3, '01010101011': 3, '10101101011': 3, '00110011011': 3, '00111011011': 3, '00010111011': 3, '00011111011': 3, '11100000111': 3, '11101000111': 3, '10100100111': 3, '11110010111': 3, '10101010111': 3, '00101110111': 3, '10000001111': 3, '01100001111': 3, '10110101111': 3, '11110101111': 3, '11010011111': 3, '01000111111': 3, '11010111111': 3, '11111111111': 3, '00010000000': 2, '11001000000': 2, '00101000000': 2, '10101000000': 2, '01011000000': 2, '11011000000': 2, '01111000000': 2, '00000100000': 2, '00101100000': 2, '01000010000': 2, '11000010000': 2, '01100010000': 2, '10010010000': 2, '00110010000': 2, '11011010000': 2, '00000110000': 2, '01000110000': 2, '01100110000': 2, '01010110000': 2, '11110110000': 2, '10101110000': 2, '11101110000': 2, '01111110000': 2, '01010001000': 2, '11010001000': 2, '10110001000': 2, '01110001000': 2, '00001001000': 2, '01001001000': 2, '00101001000': 2, '10101001000': 2, '00011001000': 2, '10111001000': 2, '01000101000': 2, '00100101000': 2, '10100101000': 2, '01010101000': 2, '01110101000': 2, '10001101000': 2, '10101101000': 2, '10100011000': 2, '10110011000': 2, '10001011000': 2, '11011011000': 2, '10100111000': 2, '01010111000': 2, '00110111000': 2, '10110111000': 2, '00001111000': 2, '01001111000': 2, '11001111000': 2, '11011111000': 2, '00000000100': 2, '10100000100': 2, '00010000100': 2, '00110000100': 2, '01110000100': 2, '11110000100': 2, '10101000100': 2, '01010100100': 2, '10101100100': 2, '11111100100': 2, '01100010100': 2, '11010010100': 2, '10110010100': 2, '11000110100': 2, '01110110100': 2, '01001110100': 2, '11101110100': 2, '10001001100': 2, '11001001100': 2, '00011001100': 2, '10011001100': 2, '01011001100': 2, '01000101100': 2, '00100101100': 2, '11100101100': 2, '11001101100': 2, '11101101100': 2, '11111101100': 2, '01010011100': 2, '10101011100': 2, '11101011100': 2, '01111011100': 2, '10010111100': 2, '10110111100': 2, '11001111100': 2, '10100000010': 2, '01100000010': 2, '10010000010': 2, '10110000010': 2, '10001000010': 2, '00011000010': 2, '01000100010': 2, '10100100010': 2, '01001100010': 2, '01101100010': 2, '00111100010': 2, '00010010010': 2, '11010010010': 2, '10110010010': 2, '11001010010': 2, '00101010010': 2, '00011010010': 2, '00100110010': 2, '11100110010': 2, '11001110010': 2, '00101110010': 2, '10011110010': 2, '01011110010': 2, '10000001010': 2, '01000001010': 2, '11000001010': 2, '00010001010': 2, '00110001010': 2, '10110001010': 2, '11110001010': 2, '00101001010': 2, '01101001010': 2, '01111001010': 2, '01000101010': 2, '01100101010': 2, '00110101010': 2, '10110101010': 2, '10001101010': 2, '00101101010': 2, '10101101010': 2, '11101101010': 2, '01111101010': 2, '01000011010': 2, '00110011010': 2, '01110011010': 2, '00001011010': 2, '10001011010': 2, '01101011010': 2, '00011011010': 2, '00000111010': 2, '10010111010': 2, '01110111010': 2, '01001111010': 2, '10101111010': 2, '00111111010': 2, '01111111010': 2, '11111111010': 2, '11100000110': 2, '11010000110': 2, '00001000110': 2, '10011000110': 2, '01011000110': 2, '10110100110': 2, '00101100110': 2, '10101100110': 2, '01101100110': 2, '11101100110': 2, '01111100110': 2, '00000010110': 2, '01000010110': 2, '10100010110': 2, '11110010110': 2, '11111010110': 2, '00010110110': 2, '01010110110': 2, '00110110110': 2, '10001110110': 2, '10101110110': 2, '01100001110': 2, '01010001110': 2, '00110001110': 2, '01001001110': 2, '01101001110': 2, '11101001110': 2, '11011001110': 2, '01100101110': 2, '01010101110': 2, '10110101110': 2, '00001101110': 2, '11101101110': 2, '10111101110': 2, '10000011110': 2, '00100011110': 2, '10100011110': 2, '00010011110': 2, '00110011110': 2, '01001011110': 2, '01011011110': 2, '11011011110': 2, '00000111110': 2, '11010111110': 2, '11110111110': 2, '10001111110': 2, '11001111110': 2, '11101111110': 2, '10000000001': 2, '00110000001': 2, '01001000001': 2, '11011000001': 2, '01000100001': 2, '00100100001': 2, '10100100001': 2, '11100100001': 2, '10010100001': 2, '10001100001': 2, '11001100001': 2, '01101100001': 2, '11101100001': 2, '11111100001': 2, '10000010001': 2, '11000010001': 2, '00100010001': 2, '00110010001': 2, '01110010001': 2, '01111010001': 2, '00100110001': 2, '10100110001': 2, '10001110001': 2, '01101110001': 2, '11011110001': 2, '00111110001': 2, '10010001001': 2, '01101001001': 2, '11011001001': 2, '00001101001': 2, '11101101001': 2, '10000011001': 2, '11000011001': 2, '00100011001': 2, '10100011001': 2, '11101011001': 2, '10100111001': 2, '01101111001': 2, '00011111001': 2, '10011111001': 2, '00010000101': 2, '10100100101': 2, '11100100101': 2, '00000010101': 2, '00100010101': 2, '01010010101': 2, '01101010101': 2, '10100110101': 2, '01100110101': 2, '01101110101': 2, '10111110101': 2, '10010001101': 2, '01110001101': 2, '11101001101': 2, '00111001101': 2, '00100101101': 2, '10100101101': 2, '00010101101': 2, '10110101101': 2, '00001011101': 2, '11111011101': 2, '10100111101': 2, '01100111101': 2, '10010111101': 2, '11110111101': 2, '10000000011': 2, '11000000011': 2, '00100000011': 2, '10100000011': 2, '00101000011': 2, '11011000011': 2, '00111000011': 2, '10000100011': 2, '00100100011': 2, '10100100011': 2, '00010100011': 2, '00110100011': 2, '10110100011': 2, '11110100011': 2, '10001100011': 2, '01001100011': 2, '01011100011': 2, '00111100011': 2, '01111100011': 2, '11111100011': 2, '00000010011': 2, '11000010011': 2, '00010010011': 2, '01010010011': 2, '11110010011': 2, '11011010011': 2, '10111010011': 2, '10110110011': 2, '10001110011': 2, '01001110011': 2, '11101110011': 2, '00011110011': 2, '10011110011': 2, '11111110011': 2, '00000001011': 2, '00100001011': 2, '01100001011': 2, '11100001011': 2, '10010001011': 2, '00110001011': 2, '11110001011': 2, '00001001011': 2, '11001001011': 2, '00101001011': 2, '11101001011': 2, '11011001011': 2, '11111001011': 2, '10100101011': 2, '01110101011': 2, '01101101011': 2, '11011101011': 2, '00100011011': 2, '11100011011': 2, '10010011011': 2, '10001011011': 2, '01001011011': 2, '00101011011': 2, '00011011011': 2, '10111011011': 2, '10100111011': 2, '11100111011': 2, '00101111011': 2, '10101111011': 2, '11111111011': 2, '10100000111': 2, '00010000111': 2, '10010000111': 2, '11010000111': 2, '00110000111': 2, '01110000111': 2, '01001000111': 2, '00011000111': 2, '00010100111': 2, '11010100111': 2, '10110100111': 2, '00001100111': 2, '10011100111': 2, '10111100111': 2, '10000010111': 2, '11000010111': 2, '10100010111': 2, '11100010111': 2, '00010010111': 2, '01010010111': 2, '01101010111': 2, '10011010111': 2, '10111010111': 2, '00100110111': 2, '10010110111': 2, '01010110111': 2, '11010110111': 2, '00110110111': 2, '01110110111': 2, '00001110111': 2, '10011110111': 2, '01000001111': 2, '11000001111': 2, '11100001111': 2, '00110001111': 2, '00001001111': 2, '00101001111': 2, '10101001111': 2, '00011001111': 2, '10011001111': 2, '00111001111': 2, '10100101111': 2, '10010101111': 2, '01010101111': 2, '00110101111': 2, '01110101111': 2, '01101101111': 2, '11101101111': 2, '10000011111': 2, '10100011111': 2, '11000111111': 2, '11001111111': 2, '10011111111': 2, '10111111111': 2, '00000000000': 1, '10100000000': 1, '11100000000': 1, '00110000000': 1, '01110000000': 1, '00001000000': 1, '10001000000': 1, '01101000000': 1, '11101000000': 1, '00011000000': 1, '00111000000': 1, '10111000000': 1, '11111000000': 1, '11000100000': 1, '00010100000': 1, '01010100000': 1, '10110100000': 1, '01110100000': 1, '11110100000': 1, '10001100000': 1, '01101100000': 1, '11101100000': 1, '00011100000': 1, '10011100000': 1, '11011100000': 1, '00111100000': 1, '10111100000': 1, '01111100000': 1, '11111100000': 1, '00000010000': 1, '10000010000': 1, '10100010000': 1, '11100010000': 1, '00010010000': 1, '11010010000': 1, '10001010000': 1, '00101010000': 1, '10101010000': 1, '11101010000': 1, '00011010000': 1, '00111010000': 1, '10111010000': 1, '11111010000': 1, '10000110000': 1, '00100110000': 1, '11100110000': 1, '00010110000': 1, '10110110000': 1, '01110110000': 1, '11001110000': 1, '00101110000': 1, '00111110000': 1, '11111110000': 1, '01000001000': 1, '11000001000': 1, '10100001000': 1, '11110001000': 1, '11001001000': 1, '10011001000': 1, '01011001000': 1, '01111001000': 1, '00110101000': 1, '00001101000': 1, '11101101000': 1, '10111101000': 1, '11111101000': 1, '10000011000': 1, '01000011000': 1, '11000011000': 1, '00100011000': 1, '11100011000': 1, '00010011000': 1, '11010011000': 1, '01110011000': 1, '11110011000': 1, '00001011000': 1, '01001011000': 1, '00101011000': 1, '00011011000': 1, '01011011000': 1, '10111011000': 1, '01111011000': 1, '00000111000': 1, '10000111000': 1, '00100111000': 1, '11100111000': 1, '00010111000': 1, '10010111000': 1, '11010111000': 1, '01110111000': 1, '10101111000': 1, '01101111000': 1, '11101111000': 1, '00011111000': 1, '10011111000': 1, '00111111000': 1, '10111111000': 1, '11000000100': 1, '01100000100': 1, '11100000100': 1, '00001000100': 1, '10001000100': 1, '00101000100': 1, '01101000100': 1, '00011000100': 1, '11011000100': 1, '01111000100': 1, '11000100100': 1, '00100100100': 1, '01100100100': 1, '00010100100': 1, '10010100100': 1, '10110100100': 1, '11110100100': 1, '10001100100': 1, '11001100100': 1, '01101100100': 1, '00011100100': 1, '10011100100': 1, '00000010100': 1, '10000010100': 1, '01000010100': 1, '11000010100': 1, '10010010100': 1, '01010010100': 1, '01110010100': 1, '10001010100': 1, '01001010100': 1, '00011010100': 1, '11011010100': 1, '01111010100': 1, '00000110100': 1, '10000110100': 1, '00100110100': 1, '01100110100': 1, '00001110100': 1, '10001110100': 1, '00101110100': 1, '00011110100': 1, '10011110100': 1, '01111110100': 1, '11111110100': 1, '00000001100': 1, '00100001100': 1, '00010001100': 1, '10010001100': 1, '01010001100': 1, '00110001100': 1, '00101001100': 1, '10101001100': 1, '01101001100': 1, '11101001100': 1, '00111001100': 1, '10111001100': 1, '01111001100': 1, '00000101100': 1, '01010101100': 1, '00110101100': 1, '01110101100': 1, '10001101100': 1, '01001101100': 1, '00101101100': 1, '10101101100': 1, '00011101100': 1, '01011101100': 1, '10111101100': 1, '11000011100': 1, '00100011100': 1, '10100011100': 1, '01100011100': 1, '11100011100': 1, '10010011100': 1, '11110011100': 1, '01101011100': 1, '00011011100': 1, '01011011100': 1, '11011011100': 1, '00111011100': 1, '10111011100': 1, '10000111100': 1, '01000111100': 1, '11000111100': 1, '00100111100': 1, '10100111100': 1, '01010111100': 1, '00110111100': 1, '01110111100': 1, '11110111100': 1, '10001111100': 1, '01001111100': 1, '10101111100': 1, '11101111100': 1, '01011111100': 1, '00111111100': 1, '10111111100': 1, '01111111100': 1, '11111111100': 1, '10000000010': 1, '11000000010': 1, '00100000010': 1, '11100000010': 1, '00010000010': 1, '11001000010': 1, '01011000010': 1, '00111000010': 1, '01111000010': 1, '00000100010': 1, '10000100010': 1, '11000100010': 1, '01100100010': 1, '01010100010': 1, '11010100010': 1, '10110100010': 1, '11110100010': 1, '11001100010': 1, '00011100010': 1, '10111100010': 1, '01111100010': 1, '01000010010': 1, '11110010010': 1, '10001010010': 1, '01001010010': 1, '11101010010': 1, '10011010010': 1, '11111010010': 1, '00000110010': 1, '10000110010': 1, '11010110010': 1, '10110110010': 1, '11101110010': 1, '00011110010': 1, '00000001010': 1, '00100001010': 1, '10010001010': 1, '11010001010': 1, '01001001010': 1, '00111001010': 1, '10000101010': 1, '00100101010': 1, '10100101010': 1, '00001101010': 1, '01011101010': 1, '10111101010': 1, '11111101010': 1, '00000011010': 1, '11000011010': 1, '00100011010': 1, '10100011010': 1, '11100011010': 1, '00010011010': 1, '10010011010': 1, '11010011010': 1, '11110011010': 1, '01001011010': 1, '11001011010': 1, '11101011010': 1, '01011011010': 1, '00111011010': 1, '01111011010': 1, '01000111010': 1, '11000111010': 1, '00100111010': 1, '10100111010': 1, '01100111010': 1, '11100111010': 1, '01010111010': 1, '11010111010': 1, '00001111010': 1, '00011111010': 1, '10111111010': 1, '00000000110': 1, '01000000110': 1, '10100000110': 1, '01100000110': 1, '01010000110': 1, '11110000110': 1, '01001000110': 1, '00101000110': 1, '10101000110': 1, '01101000110': 1, '11101000110': 1, '00011000110': 1, '00111000110': 1, '10111000110': 1, '01111000110': 1, '01000100110': 1, '11000100110': 1, '00100100110': 1, '11100100110': 1, '10010100110': 1, '01010100110': 1, '11010100110': 1, '00110100110': 1, '11110100110': 1, '00001100110': 1, '10001100110': 1, '01001100110': 1, '00011100110': 1, '11011100110': 1, '11100010110': 1, '00010010110': 1, '01010010110': 1, '00110010110': 1, '10110010110': 1, '00001010110': 1, '10001010110': 1, '11001010110': 1, '00101010110': 1, '10101010110': 1, '01101010110': 1, '11101010110': 1, '00011010110': 1, '10011010110': 1, '11011010110': 1, '00111010110': 1, '01111010110': 1, '10000110110': 1, '00100110110': 1, '10100110110': 1, '01100110110': 1, '11100110110': 1, '11010110110': 1, '10110110110': 1, '11110110110': 1, '01001110110': 1, '11001110110': 1, '00101110110': 1, '11101110110': 1, '00011110110': 1, '00111110110': 1, '10111110110': 1, '01111110110': 1, '11111110110': 1, '00000001110': 1, '10000001110': 1, '10100001110': 1, '11010001110': 1, '00101001110': 1, '10000101110': 1, '01000101110': 1, '11000101110': 1, '10100101110': 1, '11100101110': 1, '00010101110': 1, '10010101110': 1, '11010101110': 1, '00110101110': 1, '01110101110': 1, '11110101110': 1, '00101101110': 1, '11011101110': 1, '11100011110': 1, '01110011110': 1, '11110011110': 1, '11001011110': 1, '00101011110': 1, '01101011110': 1, '11101011110': 1, '10111011110': 1, '11111011110': 1, '10000111110': 1, '00100111110': 1, '01100111110': 1, '00010111110': 1, '00110111110': 1, '10110111110': 1, '01110111110': 1, '00001111110': 1, '01001111110': 1, '01101111110': 1, '00011111110': 1, '01011111110': 1, '11011111110': 1, '00000000001': 1, '01000000001': 1, '11100000001': 1, '00010000001': 1, '01010000001': 1, '10001000001': 1, '00101000001': 1, '10101000001': 1, '01101000001': 1, '11101000001': 1, '01011000001': 1, '00000100001': 1, '11000100001': 1, '11010100001': 1, '00001100001': 1, '10011100001': 1, '00111100001': 1, '10111100001': 1, '01111100001': 1, '01000010001': 1, '10010010001': 1, '11010010001': 1, '10110010001': 1, '11110010001': 1, '00001010001': 1, '10001010001': 1, '01001010001': 1, '11001010001': 1, '10101010001': 1, '01101010001': 1, '11101010001': 1, '00011010001': 1, '10011010001': 1, '00111010001': 1, '10111010001': 1, '01100110001': 1, '11100110001': 1, '10010110001': 1, '01010110001': 1, '11010110001': 1, '10110110001': 1, '11110110001': 1, '01001110001': 1, '11101110001': 1, '10011110001': 1, '11111110001': 1, '10000001001': 1, '00100001001': 1, '11100001001': 1, '11010001001': 1, '00110001001': 1, '10110001001': 1, '00001001001': 1, '10001001001': 1, '11001001001': 1, '00101001001': 1, '00011001001': 1, '11000101001': 1, '00100101001': 1, '10100101001': 1, '10010101001': 1, '11010101001': 1, '10110101001': 1, '01110101001': 1, '11110101001': 1, '10001101001': 1, '00101101001': 1, '01101101001': 1, '00011101001': 1, '10111101001': 1, '11111101001': 1, '00000011001': 1, '01100011001': 1, '11100011001': 1, '01010011001': 1, '11010011001': 1, '10110011001': 1, '01110011001': 1, '11110011001': 1, '00001011001': 1, '10001011001': 1, '10101011001': 1, '11111011001': 1, '01000111001': 1, '01100111001': 1, '11100111001': 1, '00110111001': 1, '01110111001': 1, '00101111001': 1, '10101111001': 1, '11011111001': 1, '11111111001': 1, '10000000101': 1, '11000000101': 1, '10100000101': 1, '10010000101': 1, '01010000101': 1, '11010000101': 1, '01110000101': 1, '11110000101': 1, '00001000101': 1, '01001000101': 1, '11001000101': 1, '10101000101': 1, '01101000101': 1, '10011000101': 1, '01011000101': 1, '11011000101': 1, '01111000101': 1, '01000100101': 1, '11000100101': 1, '00100100101': 1, '00010100101': 1, '10010100101': 1, '00001100101': 1, '01001100101': 1, '11001100101': 1, '00101100101': 1, '10101100101': 1, '11011100101': 1, '10111100101': 1, '01111100101': 1, '11111100101': 1, '10000010101': 1, '01100010101': 1, '10010010101': 1, '11010010101': 1, '00001010101': 1, '01001010101': 1, '00101010101': 1, '11101010101': 1, '11011010101': 1, '00111010101': 1, '10111010101': 1, '11111010101': 1, '11100110101': 1, '00010110101': 1, '00110110101': 1, '01001110101': 1, '10011110101': 1, '11011110101': 1, '10000001101': 1, '11000001101': 1, '10100001101': 1, '11100001101': 1, '00110001101': 1, '11110001101': 1, '10001001101': 1, '01001001101': 1, '11001001101': 1, '01101001101': 1, '10111001101': 1, '01111001101': 1, '11111001101': 1, '10000101101': 1, '01000101101': 1, '11000101101': 1, '01010101101': 1, '01110101101': 1, '01001101101': 1, '00101101101': 1, '10101101101': 1, '00011101101': 1, '01111101101': 1, '10000011101': 1, '01000011101': 1, '01100011101': 1, '11100011101': 1, '00010011101': 1, '01010011101': 1, '10110011101': 1, '11110011101': 1, '11001011101': 1, '00101011101': 1, '01101011101': 1, '11101011101': 1, '00011011101': 1, '10011011101': 1, '00111011101': 1, '11000111101': 1, '00100111101': 1, '11100111101': 1, '00010111101': 1, '00110111101': 1, '10110111101': 1, '00001111101': 1, '10001111101': 1, '00011111101': 1, '10111111101': 1, '01111111101': 1, '11111111101': 1, '00000000011': 1, '00010000011': 1, '10010000011': 1, '01010000011': 1, '11010000011': 1, '00110000011': 1, '10110000011': 1, '01110000011': 1, '11110000011': 1, '00001000011': 1, '01101000011': 1, '10011000011': 1, '10111000011': 1, '01111000011': 1, '11000100011': 1, '01100100011': 1, '11100100011': 1, '01010100011': 1, '11010100011': 1, '01110100011': 1, '00001100011': 1, '11001100011': 1, '00101100011': 1, '10101100011': 1, '11101100011': 1, '00011100011': 1, '10011100011': 1, '10111100011': 1, '01000010011': 1, '00100010011': 1, '01100010011': 1, '11010010011': 1, '11001010011': 1, '10101010011': 1, '00011010011': 1, '10011010011': 1, '01111010011': 1, '11111010011': 1, '10000110011': 1, '01000110011': 1, '11000110011': 1, '00100110011': 1, '10100110011': 1, '10010110011': 1, '01010110011': 1, '11110110011': 1, '10101110011': 1, '01101110011': 1, '11011110011': 1, '00111110011': 1, '01111110011': 1, '11000001011': 1, '01010001011': 1, '10001001011': 1, '10011001011': 1, '00111001011': 1, '00000101011': 1, '10000101011': 1, '01000101011': 1, '11000101011': 1, '00100101011': 1, '11100101011': 1, '00010101011': 1, '11010101011': 1, '10110101011': 1, '11110101011': 1, '00001101011': 1, '10001101011': 1, '01001101011': 1, '00101101011': 1, '11101101011': 1, '01011101011': 1, '00111101011': 1, '10111101011': 1, '01111101011': 1, '00000011011': 1, '01000011011': 1, '11000011011': 1, '10100011011': 1, '01100011011': 1, '01010011011': 1, '10110011011': 1, '00001011011': 1, '10101011011': 1, '10011011011': 1, '01011011011': 1, '01111011011': 1, '01000111011': 1, '00100111011': 1, '01100111011': 1, '01010111011': 1, '10110111011': 1, '01110111011': 1, '10001111011': 1, '01001111011': 1, '11011111011': 1, '10111111011': 1, '00000000111': 1, '01100000111': 1, '01010000111': 1, '10110000111': 1, '11110000111': 1, '10001000111': 1, '10101000111': 1, '10011000111': 1, '11011000111': 1, '00111000111': 1, '10111000111': 1, '01111000111': 1, '11111000111': 1, '10000100111': 1, '11000100111': 1, '00100100111': 1, '10010100111': 1, '01110100111': 1, '00101100111': 1, '00011100111': 1, '01011100111': 1, '00000010111': 1, '01000010111': 1, '00100010111': 1, '01100010111': 1, '11010010111': 1, '10110010111': 1, '00001010111': 1, '10001010111': 1, '01001010111': 1, '00101010111': 1, '01111010111': 1, '01000110111': 1, '11000110111': 1, '10100110111': 1, '11100110111': 1, '10110110111': 1, '11101110111': 1, '01011110111': 1, '10111110111': 1, '01111110111': 1, '11111110111': 1, '00000001111': 1, '00100001111': 1, '10100001111': 1, '01010001111': 1, '11010001111': 1, '01110001111': 1, '10001001111': 1, '01001001111': 1, '01101001111': 1, '11101001111': 1, '11011001111': 1, '10111001111': 1, '10000101111': 1, '01000101111': 1, '11000101111': 1, '11010101111': 1, '00001101111': 1, '00101101111': 1, '10101101111': 1, '11011101111': 1, '00111101111': 1, '10111101111': 1, '11111101111': 1, '00000011111': 1, '11000011111': 1, '11100011111': 1, '10010011111': 1, '01010011111': 1, '00110011111': 1, '11110011111': 1, '10001011111': 1, '01001011111': 1, '10101011111': 1, '11101011111': 1, '00011011111': 1, '01011011111': 1, '00111011111': 1, '01111011111': 1, '11111011111': 1, '10000111111': 1, '00100111111': 1, '10100111111': 1, '10010111111': 1, '01010111111': 1, '00110111111': 1, '01110111111': 1, '00001111111': 1, '10001111111': 1, '01001111111': 1, '00101111111': 1, '01101111111': 1, '11101111111': 1, '00011111111': 1, '11011111111': 1, '00111111111': 1, '01111111111': 1})\n"
     ]
    }
   ],
   "source": [
    "result = task2.wait(timeout=10)\n",
    "if result:\n",
    "    print(result.shots())\n",
    "else:\n",
    "    print(\"timeout\")"
   ]
  },
  {
   "cell_type": "code",
   "execution_count": 18,
   "metadata": {
    "pycharm": {
     "is_executing": false
    }
   },
   "outputs": [
    {
     "name": "stdout",
     "output_type": "stream",
     "text": [
      "{'000000': 34, '101000': 40, '011000': 39, '111000': 34, '000100': 30, '001100': 36, '011100': 24, '000010': 37, '100010': 37, '110010': 19, '001010': 39, '101010': 39, '011010': 36, '111010': 30, '000110': 33, '010110': 23, '110110': 34, '001110': 24, '101110': 41, '011110': 31, '111110': 33, '000001': 18, '110001': 28, '011001': 32, '000101': 21, '010101': 38, '101101': 34, '011101': 29, '111101': 28, '100011': 33, '001011': 45, '011011': 34, '111011': 33, '000111': 31, '100111': 20, '110111': 23, '001111': 28, '101111': 33, '011111': 23, '111111': 37, '100000': 41, '010000': 33, '110000': 35, '100100': 28, '110100': 34, '100110': 22, '100001': 31, '010001': 33, '001001': 34, '111001': 33, '110011': 29, '101011': 40, '010111': 18, '010100': 29, '101100': 24, '111100': 31, '010010': 32, '101001': 43, '001101': 25, '000011': 36, '010011': 31, '001000': 27, '100101': 28, '110101': 22}\n"
     ]
    }
   ],
   "source": [
    "c = result.shots().items()\n",
    "# c = r_dict.items()\n",
    "dict = {}\n",
    "for k,v in c:\n",
    "    if k[:6] in dict.keys():\n",
    "        dict[k[:6]] = dict[k[:6]] + v\n",
    "    else:\n",
    "        dict[k[:6]] = v\n",
    "print(dict)\n",
    "\n",
    "# Export results to local csv file\n",
    "with open('Ours_3coloring_shot_counts_IonQ'+str(num_shots)+'.csv', encoding='utf-8-sig', mode='w') as fp:\n",
    "    fp.write('State;Probability\\n')  \n",
    "    for state, count in dict.items():  \n",
    "        fp.write('\\'{}\\';{}\\n'.format(state, count/num_shots))  "
   ]
  },
  {
   "cell_type": "code",
   "execution_count": 19,
   "metadata": {},
   "outputs": [
    {
     "data": {
      "image/png": "[encoded data removed]",
      "text/plain": [
       "<Figure size 640x480 with 1 Axes>"
      ]
     },
     "metadata": {},
     "output_type": "display_data"
    }
   ],
   "source": [
    "x = dict.keys()\n",
    "y = [i/num_shots for i in dict.values()]\n",
    "plt.bar(range(len(x)), y)\n",
    "plt.show()"
   ]
  },
  {
   "cell_type": "markdown",
   "metadata": {},
   "source": [
    "# Saha et. al. Implementation for K3 coloring\n",
    "\n",
    "We now implement the circuit in Figure 8, Page 5 of [Saha et. al.](https://arxiv.org/pdf/2009.06073.pdf)."
   ]
  },
  {
   "cell_type": "code",
   "execution_count": 20,
   "metadata": {
    "pycharm": {
     "is_executing": false
    }
   },
   "outputs": [],
   "source": [
    "def apply_ccccx(circuit, control0, control1, control2, control3, target, ancilla0, ancilla1):\n",
    "    apply_ccx(circuit, control0, control1, ancilla0)\n",
    "    apply_ccx(circuit, control2, control3, ancilla1)\n",
    "    apply_ccx(circuit, ancilla0, ancilla1, target)\n",
    "    apply_ccx(circuit, control2, control3, ancilla1)\n",
    "    apply_ccx(circuit, control0, control1, ancilla0)"
   ]
  },
  {
   "cell_type": "code",
   "execution_count": 22,
   "metadata": {
    "pycharm": {
     "is_executing": false
    }
   },
   "outputs": [
    {
     "name": "stdout",
     "output_type": "stream",
     "text": [
      "Number of operations: 686\n"
     ]
    }
   ],
   "source": [
    "saha_circ = Circuit(13)\n",
    "vqubit = list(range(6))\n",
    "equbit = list(range(6,9))\n",
    "ranc = 9\n",
    "pflip = 10\n",
    "anc0 = 11\n",
    "anc1 = 12\n",
    "\n",
    "for i in vqubit:\n",
    "    saha_circ.h[i]\n",
    "for i in equbit:\n",
    "    saha_circ.x[i]\n",
    "saha_circ.x[pflip].h[pflip]\n",
    "\n",
    "# ORACLE\n",
    "# block1\n",
    "apply_ccx(saha_circ,0,1,6)\n",
    "apply_ccx(saha_circ,2,3,7)\n",
    "apply_ccx(saha_circ,4,5,8)\n",
    "apply_cccx(saha_circ,[6,7,8],9,anc0)\n",
    "apply_ccx(saha_circ,4,5,8)\n",
    "apply_ccx(saha_circ,2,3,7)\n",
    "apply_ccx(saha_circ,0,1,6)\n",
    "\n",
    "#block2\n",
    "saha_circ.cx[0,2]\n",
    "saha_circ.cx[1,3]\n",
    "saha_circ.x[2]\n",
    "saha_circ.x[3]\n",
    "apply_ccx(saha_circ,2,3,6)\n",
    "saha_circ.cx[0,4]\n",
    "saha_circ.cx[1,5]\n",
    "saha_circ.x[4]\n",
    "saha_circ.x[5]\n",
    "apply_ccx(saha_circ,4,5,7)\n",
    "apply_ccx(saha_circ,6,7,8)\n",
    "apply_ccx(saha_circ,4,5,7)\n",
    "saha_circ.x[5]\n",
    "saha_circ.x[4]\n",
    "saha_circ.cx[1,5]\n",
    "saha_circ.cx[0,4]\n",
    "apply_ccx(saha_circ,2,3,6)\n",
    "saha_circ.x[3]\n",
    "saha_circ.x[2]\n",
    "saha_circ.cx[1,3]\n",
    "saha_circ.cx[0,2]\n",
    "\n",
    "# block3\n",
    "saha_circ.cx[2,4]\n",
    "saha_circ.cx[3,5]\n",
    "saha_circ.x[4]\n",
    "saha_circ.x[5]\n",
    "apply_ccx(saha_circ,4,5,6)\n",
    "apply_ccccx(saha_circ,6,7,8,9,10,anc0,anc1)\n",
    "apply_ccx(saha_circ, 4,5,6)\n",
    "saha_circ.x[5]\n",
    "saha_circ.x[4]\n",
    "saha_circ.cx[3,5]\n",
    "saha_circ.cx[2,4]\n",
    "\n",
    "# block4\n",
    "saha_circ.cx[0,2]\n",
    "saha_circ.cx[1,3]\n",
    "saha_circ.x[2]\n",
    "saha_circ.x[3]\n",
    "apply_ccx(saha_circ,2,3,6)\n",
    "saha_circ.cx[0,4]\n",
    "saha_circ.cx[1,5]\n",
    "saha_circ.x[4]\n",
    "saha_circ.x[5]\n",
    "apply_ccx(saha_circ,4,5,7)\n",
    "apply_ccx(saha_circ,6,7,8)\n",
    "apply_ccx(saha_circ,4,5,7)\n",
    "saha_circ.x[5]\n",
    "saha_circ.x[4]\n",
    "saha_circ.cx[1,5]\n",
    "saha_circ.cx[0,4]\n",
    "apply_ccx(saha_circ,2,3,6)\n",
    "saha_circ.x[3]\n",
    "saha_circ.x[2]\n",
    "saha_circ.cx[1,3]\n",
    "saha_circ.cx[0,2]\n",
    "\n",
    "# block5\n",
    "apply_ccx(saha_circ,0,1,6)\n",
    "apply_ccx(saha_circ,2,3,7)\n",
    "apply_ccx(saha_circ,4,5,8)\n",
    "apply_cccx(saha_circ,[6,7,8],9,anc0)\n",
    "apply_ccx(saha_circ,4,5,8)\n",
    "apply_ccx(saha_circ,2,3,7)\n",
    "apply_ccx(saha_circ,0,1,6)\n",
    "\n",
    "# block6 (diff)\n",
    "\n",
    "for i in vqubit:\n",
    "    saha_circ.h[i].x[i]\n",
    "saha_circ.h[vqubit[-1]]\n",
    "apply_cccx(saha_circ,[0,1,2],vqubit[-1],anc0)\n",
    "saha_circ.h[vqubit[-1]]\n",
    "for i in vqubit:\n",
    "    saha_circ.x[i].h[i]\n",
    "saha_circ.h[pflip]\n",
    "\n",
    "print('Number of operations: ' + str(saha_circ.to_qasm().count(';')-4))"
   ]
  },
  {
   "cell_type": "markdown",
   "metadata": {},
   "source": [
    "## Testing on Amazon Statevector Simulator"
   ]
  },
  {
   "cell_type": "code",
   "execution_count": 23,
   "metadata": {},
   "outputs": [],
   "source": [
    "num_shots = 2000\n",
    "task3 = api.execute(saha_circ, bqcloud.Device.SimSv1, num_shots)"
   ]
  },
  {
   "cell_type": "code",
   "execution_count": 24,
   "metadata": {},
   "outputs": [
    {
     "name": "stdout",
     "output_type": "stream",
     "text": [
      "Status.COMPLETED\n"
     ]
    }
   ],
   "source": [
    "print(task3.status())"
   ]
  },
  {
   "cell_type": "code",
   "execution_count": 25,
   "metadata": {
    "pycharm": {
     "is_executing": false
    }
   },
   "outputs": [],
   "source": [
    "# Fetch Measurement Results\n",
    "result = task3.wait()\n",
    "\n",
    "# Compute Measurement Results from first 6 qubits\n",
    "c = result.shots().items()\n",
    "# c = r_dict.items()\n",
    "dict = {}\n",
    "for k,v in c:\n",
    "    if k[:6] in dict.keys():\n",
    "        dict[k[:6]] = dict[k[:6]] + v\n",
    "    else:\n",
    "        dict[k[:6]] = v\n",
    "\n",
    "# Export result to CSV\n",
    "with open('Saha_et_al_3coloring_shot_counts_SimSv1_' + str(num_shots) + '.csv', encoding='utf-8-sig', mode='w') as fp:\n",
    "    fp.write('State;Probability\\n')  \n",
    "    for state, count in dict.items():  \n",
    "        fp.write('\\'{}\\';{}\\n'.format(state, count/num_shots))"
   ]
  },
  {
   "cell_type": "code",
   "execution_count": 26,
   "metadata": {
    "pycharm": {
     "is_executing": false
    }
   },
   "outputs": [
    {
     "data": {
      "image/png": "[encoded data removed]",
      "text/plain": [
       "<Figure size 640x480 with 1 Axes>"
      ]
     },
     "metadata": {},
     "output_type": "display_data"
    }
   ],
   "source": [
    "x = dict.keys()\n",
    "y = [i/num_shots for i in dict.values()]\n",
    "plt.bar(range(len(x)), y)\n",
    "plt.show()"
   ]
  },
  {
   "cell_type": "markdown",
   "metadata": {},
   "source": [
    "## IonQ Physical Device\n",
    "Since we need 13 physical qubits to run this algorithm on the IonQ device, we could not run it."
   ]
  },
  {
   "cell_type": "code",
   "execution_count": null,
   "metadata": {},
   "outputs": [],
   "source": []
  }
 ],
 "metadata": {
  "kernelspec": {
   "display_name": "Python 3",
   "language": "python",
   "name": "python3"
  },
  "language_info": {
   "codemirror_mode": {
    "name": "ipython",
    "version": 3
   },
   "file_extension": ".py",
   "mimetype": "text/x-python",
   "name": "python",
   "nbconvert_exporter": "python",
   "pygments_lexer": "ipython3",
   "version": "3.8.11"
  },
  "pycharm": {
   "stem_cell": {
    "cell_type": "raw",
    "metadata": {
     "collapsed": false
    },
    "source": []
   }
  }
 },
 "nbformat": 4,
 "nbformat_minor": 4
}
